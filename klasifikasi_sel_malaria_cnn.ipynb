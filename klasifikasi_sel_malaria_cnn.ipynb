{
  "nbformat": 4,
  "nbformat_minor": 0,
  "metadata": {
    "colab": {
      "provenance": [],
      "authorship_tag": "ABX9TyMDs5dSWy1pkoVz6lM3mIpl",
      "include_colab_link": true
    },
    "kernelspec": {
      "name": "python3",
      "display_name": "Python 3"
    },
    "language_info": {
      "name": "python"
    }
  },
  "cells": [
    {
      "cell_type": "markdown",
      "metadata": {
        "id": "view-in-github",
        "colab_type": "text"
      },
      "source": [
        "<a href=\"https://colab.research.google.com/github/fahmisyuhada/klasifikasi_sel_malaria_CNN/blob/main/klasifikasi_sel_malaria_cnn.ipynb\" target=\"_parent\"><img src=\"https://colab.research.google.com/assets/colab-badge.svg\" alt=\"Open In Colab\"/></a>"
      ]
    },
    {
      "cell_type": "code",
      "source": [
        "!pip install -q kaggle\n",
        "!mkdir ~/.kaggle\n",
        "!cp kaggle.json ~/.kaggle\n",
        "!chmod 600 ~/.kaggle/kaggle.json\n",
        "# !kaggle datasets list"
      ],
      "metadata": {
        "id": "UbodthnUgD-3"
      },
      "execution_count": 1,
      "outputs": []
    },
    {
      "cell_type": "code",
      "source": [
        "!kaggle datasets download -d 'iarunava/cell-images-for-detecting-malaria'\n",
        "import zipfile\n",
        "\n",
        "data_set = zipfile.ZipFile('cell-images-for-detecting-malaria.zip', 'r')\n",
        "\n",
        "data_set.extractall()\n",
        "data_set.close()\n",
        "print('dataset unzip successfully')"
      ],
      "metadata": {
        "colab": {
          "base_uri": "https://localhost:8080/"
        },
        "id": "_RqNtKI5fua8",
        "outputId": "e62e2d40-20b1-497a-f5d7-c21ada04a461"
      },
      "execution_count": 2,
      "outputs": [
        {
          "output_type": "stream",
          "name": "stdout",
          "text": [
            "Downloading cell-images-for-detecting-malaria.zip to /content\n",
            " 98% 664M/675M [00:09<00:00, 73.3MB/s]\n",
            "100% 675M/675M [00:09<00:00, 75.9MB/s]\n",
            "dataset unzip successfully\n"
          ]
        }
      ]
    },
    {
      "cell_type": "code",
      "source": [
        "import numpy as np\n",
        "np.random.seed\n",
        "\n",
        "import cv2\n",
        "import os\n",
        "from PIL import Image\n",
        "import keras\n",
        "\n",
        "os.environ['KERAS_BACKEND'] = 'tensorflow'\n",
        "\n",
        "image_directory = 'cell_images/'\n",
        "SIZE = 64\n",
        "dataset = []\n",
        "label = []\n",
        "\n",
        "parasitezed_images = os.listdir(image_directory + 'Parasitized/')\n",
        "for i, image_name in enumerate(parasitezed_images):\n",
        "  if(image_name.split('.')[1] == 'png'):\n",
        "    image = cv2.imread(image_directory + 'Parasitized/' + image_name)\n",
        "    image = Image.fromarray(image, 'RGB')\n",
        "    image = image.resize((SIZE, SIZE))\n",
        "    dataset.append(np.array(image))\n",
        "    label.append(0)\n",
        "\n",
        "uninfected_images = os.listdir(image_directory + 'Uninfected/')\n",
        "for i, image_name in enumerate(uninfected_images):\n",
        "  if(image_name.split('.')[1] == 'png'):\n",
        "    image = cv2.imread(image_directory + 'Uninfected/' + image_name)\n",
        "    image = Image.fromarray(image, 'RGB')\n",
        "    image = image.resize((SIZE, SIZE))\n",
        "    dataset.append(np.array(image))\n",
        "    label.append(1)\n",
        "\n",
        "print(\"Load Data Succesfully\")"
      ],
      "metadata": {
        "id": "aktIY4KS5SHW",
        "outputId": "8ed45207-5b39-45d0-a3b0-b252ce5d22c7",
        "colab": {
          "base_uri": "https://localhost:8080/"
        }
      },
      "execution_count": 3,
      "outputs": [
        {
          "output_type": "stream",
          "name": "stdout",
          "text": [
            "Load Data Succesfully\n"
          ]
        }
      ]
    },
    {
      "cell_type": "code",
      "execution_count": null,
      "metadata": {
        "id": "6nilKPBvLPxI",
        "outputId": "430e5c26-e0fe-4706-b4b9-6ee807355655",
        "colab": {
          "base_uri": "https://localhost:8080/"
        }
      },
      "outputs": [
        {
          "output_type": "stream",
          "name": "stdout",
          "text": [
            "Model: \"model_1\"\n",
            "_________________________________________________________________\n",
            " Layer (type)                Output Shape              Param #   \n",
            "=================================================================\n",
            " input_2 (InputLayer)        [(None, 64, 64, 3)]       0         \n",
            "                                                                 \n",
            " conv2d_2 (Conv2D)           (None, 64, 64, 32)        896       \n",
            "                                                                 \n",
            " max_pooling2d_2 (MaxPooling  (None, 32, 32, 32)       0         \n",
            " 2D)                                                             \n",
            "                                                                 \n",
            " batch_normalization_4 (Batc  (None, 32, 32, 32)       128       \n",
            " hNormalization)                                                 \n",
            "                                                                 \n",
            " dropout_4 (Dropout)         (None, 32, 32, 32)        0         \n",
            "                                                                 \n",
            " conv2d_3 (Conv2D)           (None, 32, 32, 32)        9248      \n",
            "                                                                 \n",
            " max_pooling2d_3 (MaxPooling  (None, 16, 16, 32)       0         \n",
            " 2D)                                                             \n",
            "                                                                 \n",
            " batch_normalization_5 (Batc  (None, 16, 16, 32)       128       \n",
            " hNormalization)                                                 \n",
            "                                                                 \n",
            " dropout_5 (Dropout)         (None, 16, 16, 32)        0         \n",
            "                                                                 \n",
            " flatten_1 (Flatten)         (None, 8192)              0         \n",
            "                                                                 \n",
            " dense_3 (Dense)             (None, 512)               4194816   \n",
            "                                                                 \n",
            " batch_normalization_6 (Batc  (None, 512)              2048      \n",
            " hNormalization)                                                 \n",
            "                                                                 \n",
            " dropout_6 (Dropout)         (None, 512)               0         \n",
            "                                                                 \n",
            " dense_4 (Dense)             (None, 256)               131328    \n",
            "                                                                 \n",
            " batch_normalization_7 (Batc  (None, 256)              1024      \n",
            " hNormalization)                                                 \n",
            "                                                                 \n",
            " dropout_7 (Dropout)         (None, 256)               0         \n",
            "                                                                 \n",
            " dense_5 (Dense)             (None, 2)                 514       \n",
            "                                                                 \n",
            "=================================================================\n",
            "Total params: 4,340,130\n",
            "Trainable params: 4,338,466\n",
            "Non-trainable params: 1,664\n",
            "_________________________________________________________________\n",
            "None\n"
          ]
        }
      ],
      "source": [
        "#### There are two type to make model tha we can chose ####\n",
        "\n",
        "#### First : Using Class Model ####\n",
        "#####################################\n",
        "INPUT_SHAPE = (SIZE, SIZE, 3)   # change to (SIZE, SIZE, 3)\n",
        "\n",
        "\n",
        "###### Make Layer CNN #######\n",
        "inp = keras.layers.Input(shape=INPUT_SHAPE)\n",
        "\n",
        "conv1 = keras.layers.Conv2D(32, kernel_size=(3,3), activation='relu', padding='same')(inp)\n",
        "pool1 = keras.layers.MaxPooling2D(pool_size=(2,2))(conv1)\n",
        "norm1 = keras.layers.BatchNormalization(axis=-1)(pool1)\n",
        "drop1 = keras.layers.Dropout(rate=0.2)(norm1)\n",
        "\n",
        "conv2 = keras.layers.Conv2D(32, kernel_size=(3,3), activation='relu', padding='same')(drop1)\n",
        "pool2 = keras.layers.MaxPooling2D(pool_size=(2,2))(conv2)\n",
        "norm2 = keras.layers.BatchNormalization(axis=-1)(pool2)\n",
        "drop2 = keras.layers.Dropout(rate=0.2)(norm2)\n",
        "\n",
        "flat = keras.layers.Flatten()(drop2) # Flatten the matrix to get it ready for\n",
        "\n",
        "hidden1 = keras.layers.Dense(512, activation='relu')(flat)\n",
        "norm3 = keras.layers.BatchNormalization(axis=-1)(hidden1)\n",
        "drop3 = keras.layers.Dropout(rate=0.2)(norm3)\n",
        "hidden2 = keras.layers.Dense(256, activation='relu')(drop3)\n",
        "norm4 = keras.layers.BatchNormalization(axis=-1)(hidden2)\n",
        "drop4 = keras.layers.Dropout(rate=0.2)(norm4)\n",
        "\n",
        "out = keras.layers.Dense(2, activation='sigmoid')(drop4)\n",
        "\n",
        "model = keras.Model(inputs=inp, outputs=out)\n",
        "model.compile(optimizer='adam', loss='categorical_crossentropy', metrics=['accuracy'])\n",
        "\n",
        "print(model.summary())\n",
        "\n"
      ]
    },
    {
      "cell_type": "code",
      "source": [
        "###########################################\n",
        "### Second : Using Sequential model #######\n",
        "#Sequential\n",
        "#You can create a Sequential model by passing a list of layer instances to the constructor:\n",
        "\n",
        "from keras.layers import Convolution2D, MaxPooling2D, Flatten, Dense, BatchNormalization, Dropout\n",
        "from keras.models import Sequential\n",
        "\n",
        "model = None\n",
        "model = Sequential()\n",
        "model.add(Convolution2D(32, (3, 3), input_shape = (SIZE, SIZE, 3), activation = 'relu', data_format='channels_last'))\n",
        "model.add(MaxPooling2D(pool_size = (2, 2), data_format=\"channels_last\"))\n",
        "model.add(BatchNormalization(axis = -1))\n",
        "model.add(Dropout(0.2))\n",
        "model.add(Convolution2D(32, (3, 3), activation = 'relu'))\n",
        "model.add(MaxPooling2D(pool_size = (2, 2), data_format=\"channels_last\"))\n",
        "model.add(BatchNormalization(axis = -1))\n",
        "model.add(Dropout(0.2))\n",
        "model.add(Flatten())\n",
        "model.add(Dense(activation = 'relu', units=512))\n",
        "model.add(BatchNormalization(axis = -1))\n",
        "model.add(Dropout(0.2))\n",
        "model.add(Dense(activation = 'relu', units=256))\n",
        "model.add(BatchNormalization(axis = -1))\n",
        "model.add(Dropout(0.2))\n",
        "model.add(Dense(activation = 'sigmoid', units=2))\n",
        "model.compile(optimizer = 'adam', loss = 'categorical_crossentropy', metrics = ['accuracy'])\n",
        "print(model.summary())\n"
      ],
      "metadata": {
        "id": "ARmiYDiPPqXd",
        "outputId": "95c5ad30-475b-4b5f-ba83-81d0e651c944",
        "colab": {
          "base_uri": "https://localhost:8080/"
        }
      },
      "execution_count": 4,
      "outputs": [
        {
          "output_type": "stream",
          "name": "stdout",
          "text": [
            "Model: \"sequential\"\n",
            "_________________________________________________________________\n",
            " Layer (type)                Output Shape              Param #   \n",
            "=================================================================\n",
            " conv2d (Conv2D)             (None, 62, 62, 32)        896       \n",
            "                                                                 \n",
            " max_pooling2d (MaxPooling2D  (None, 31, 31, 32)       0         \n",
            " )                                                               \n",
            "                                                                 \n",
            " batch_normalization (BatchN  (None, 31, 31, 32)       128       \n",
            " ormalization)                                                   \n",
            "                                                                 \n",
            " dropout (Dropout)           (None, 31, 31, 32)        0         \n",
            "                                                                 \n",
            " conv2d_1 (Conv2D)           (None, 29, 29, 32)        9248      \n",
            "                                                                 \n",
            " max_pooling2d_1 (MaxPooling  (None, 14, 14, 32)       0         \n",
            " 2D)                                                             \n",
            "                                                                 \n",
            " batch_normalization_1 (Batc  (None, 14, 14, 32)       128       \n",
            " hNormalization)                                                 \n",
            "                                                                 \n",
            " dropout_1 (Dropout)         (None, 14, 14, 32)        0         \n",
            "                                                                 \n",
            " flatten (Flatten)           (None, 6272)              0         \n",
            "                                                                 \n",
            " dense (Dense)               (None, 512)               3211776   \n",
            "                                                                 \n",
            " batch_normalization_2 (Batc  (None, 512)              2048      \n",
            " hNormalization)                                                 \n",
            "                                                                 \n",
            " dropout_2 (Dropout)         (None, 512)               0         \n",
            "                                                                 \n",
            " dense_1 (Dense)             (None, 256)               131328    \n",
            "                                                                 \n",
            " batch_normalization_3 (Batc  (None, 256)              1024      \n",
            " hNormalization)                                                 \n",
            "                                                                 \n",
            " dropout_3 (Dropout)         (None, 256)               0         \n",
            "                                                                 \n",
            " dense_2 (Dense)             (None, 2)                 514       \n",
            "                                                                 \n",
            "=================================================================\n",
            "Total params: 3,357,090\n",
            "Trainable params: 3,355,426\n",
            "Non-trainable params: 1,664\n",
            "_________________________________________________________________\n",
            "None\n"
          ]
        }
      ]
    },
    {
      "cell_type": "code",
      "source": [
        "### Split the dataset\n",
        "#\n",
        "# I split the dataset into training and testing dataset.\n",
        "# 1. Training data: 80%\n",
        "# 2. Testing data: 20%\n",
        "from sklearn.model_selection import train_test_split\n",
        "from keras.utils import to_categorical\n",
        "\n",
        "X_train, X_test, y_train, y_test = train_test_split(dataset, to_categorical(np.array(label)), test_size = 0.20, random_state = 0)\n",
        "\n",
        "# When training with Keras's Model.fit(), adding the tf.keras.callback.TensorBoard callback\n",
        "# ensures that logs are created and stored. Additionally, enable histogram computation\n",
        "#every epoch with histogram_freq=1 (this is off by default)\n",
        "#Place the logs in a timestamped subdirectory to allow easy selection of different training runs.\n"
      ],
      "metadata": {
        "id": "EoElIf-eheG5"
      },
      "execution_count": 5,
      "outputs": []
    },
    {
      "cell_type": "code",
      "source": [
        "#import datetime\n",
        "\n",
        "#log_dir=\"logs/fit/\" + datetime.datetime.now().strftime(\"%Y%m%d_%H%M%S\") + \"/\"\n",
        "#tensorboard_callback = keras.callbacks.TensorBoard(log_dir=log_dir, histogram_freq=1)\n",
        "\n",
        "\n",
        "# ### Training the model\n",
        "# As the training data is now ready, I will use it to train the model.\n",
        "\n",
        "#Fit the model\n",
        "history = model.fit(np.array(X_train),\n",
        "                         y_train,\n",
        "                         batch_size = 64,\n",
        "                         verbose = 1,\n",
        "                         epochs = 25,      #Changed to 3 from 50 for testing purposes.\n",
        "                         validation_split = 0.1,\n",
        "                         shuffle = False\n",
        "                      #   callbacks=callbacks\n",
        "                     )\n",
        "\n",
        "# ## Accuracy calculation\n",
        "#\n",
        "# I'll now calculate the accuracy on the test data.\n"
      ],
      "metadata": {
        "colab": {
          "base_uri": "https://localhost:8080/"
        },
        "id": "FyLhajFijCyK",
        "outputId": "ec935a45-e0af-41fa-d3a5-224be1801ff6"
      },
      "execution_count": 7,
      "outputs": [
        {
          "output_type": "stream",
          "name": "stdout",
          "text": [
            "Epoch 1/25\n",
            "311/311 [==============================] - 151s 487ms/step - loss: 0.1816 - accuracy: 0.9302 - val_loss: 0.2908 - val_accuracy: 0.8984\n",
            "Epoch 2/25\n",
            "311/311 [==============================] - 146s 470ms/step - loss: 0.1606 - accuracy: 0.9410 - val_loss: 0.2695 - val_accuracy: 0.9061\n",
            "Epoch 3/25\n",
            "311/311 [==============================] - 144s 463ms/step - loss: 0.1430 - accuracy: 0.9471 - val_loss: 0.3390 - val_accuracy: 0.9107\n",
            "Epoch 4/25\n",
            "311/311 [==============================] - 144s 464ms/step - loss: 0.1258 - accuracy: 0.9527 - val_loss: 0.2217 - val_accuracy: 0.9243\n",
            "Epoch 5/25\n",
            "311/311 [==============================] - 146s 469ms/step - loss: 0.1086 - accuracy: 0.9615 - val_loss: 0.1994 - val_accuracy: 0.9361\n",
            "Epoch 6/25\n",
            "311/311 [==============================] - 141s 453ms/step - loss: 0.0927 - accuracy: 0.9668 - val_loss: 0.2730 - val_accuracy: 0.9166\n",
            "Epoch 7/25\n",
            "311/311 [==============================] - 143s 460ms/step - loss: 0.0812 - accuracy: 0.9697 - val_loss: 0.3997 - val_accuracy: 0.9102\n",
            "Epoch 8/25\n",
            "311/311 [==============================] - 143s 460ms/step - loss: 0.0691 - accuracy: 0.9747 - val_loss: 0.5102 - val_accuracy: 0.8127\n",
            "Epoch 9/25\n",
            "311/311 [==============================] - 144s 463ms/step - loss: 0.0592 - accuracy: 0.9782 - val_loss: 0.2943 - val_accuracy: 0.9057\n",
            "Epoch 10/25\n",
            "311/311 [==============================] - 143s 459ms/step - loss: 0.0518 - accuracy: 0.9804 - val_loss: 0.3054 - val_accuracy: 0.9320\n",
            "Epoch 11/25\n",
            "311/311 [==============================] - 142s 455ms/step - loss: 0.0461 - accuracy: 0.9833 - val_loss: 0.2553 - val_accuracy: 0.9392\n",
            "Epoch 12/25\n",
            "311/311 [==============================] - 142s 458ms/step - loss: 0.0372 - accuracy: 0.9862 - val_loss: 0.3047 - val_accuracy: 0.9438\n",
            "Epoch 13/25\n",
            "311/311 [==============================] - 144s 462ms/step - loss: 0.0412 - accuracy: 0.9841 - val_loss: 0.2697 - val_accuracy: 0.9338\n",
            "Epoch 14/25\n",
            "311/311 [==============================] - 143s 459ms/step - loss: 0.0300 - accuracy: 0.9897 - val_loss: 0.3476 - val_accuracy: 0.9388\n",
            "Epoch 15/25\n",
            "311/311 [==============================] - 143s 459ms/step - loss: 0.0232 - accuracy: 0.9916 - val_loss: 0.3244 - val_accuracy: 0.9392\n",
            "Epoch 16/25\n",
            "311/311 [==============================] - 143s 459ms/step - loss: 0.0206 - accuracy: 0.9926 - val_loss: 0.4022 - val_accuracy: 0.9356\n",
            "Epoch 17/25\n",
            "311/311 [==============================] - 144s 464ms/step - loss: 0.0220 - accuracy: 0.9931 - val_loss: 0.6739 - val_accuracy: 0.9220\n",
            "Epoch 18/25\n",
            "311/311 [==============================] - 139s 449ms/step - loss: 0.0262 - accuracy: 0.9907 - val_loss: 0.3296 - val_accuracy: 0.9338\n",
            "Epoch 19/25\n",
            "311/311 [==============================] - 141s 454ms/step - loss: 0.0246 - accuracy: 0.9916 - val_loss: 0.3060 - val_accuracy: 0.9324\n",
            "Epoch 20/25\n",
            "311/311 [==============================] - 136s 437ms/step - loss: 0.0288 - accuracy: 0.9893 - val_loss: 0.3207 - val_accuracy: 0.9451\n",
            "Epoch 21/25\n",
            "311/311 [==============================] - 133s 427ms/step - loss: 0.0165 - accuracy: 0.9942 - val_loss: 0.2776 - val_accuracy: 0.9492\n",
            "Epoch 22/25\n",
            "311/311 [==============================] - 137s 442ms/step - loss: 0.0136 - accuracy: 0.9951 - val_loss: 0.3562 - val_accuracy: 0.9501\n",
            "Epoch 23/25\n",
            "311/311 [==============================] - 134s 432ms/step - loss: 0.0147 - accuracy: 0.9948 - val_loss: 0.2833 - val_accuracy: 0.9519\n",
            "Epoch 24/25\n",
            "311/311 [==============================] - 137s 439ms/step - loss: 0.0149 - accuracy: 0.9948 - val_loss: 0.4072 - val_accuracy: 0.9424\n",
            "Epoch 25/25\n",
            "311/311 [==============================] - 135s 433ms/step - loss: 0.0158 - accuracy: 0.9950 - val_loss: 0.2546 - val_accuracy: 0.9537\n"
          ]
        }
      ]
    },
    {
      "cell_type": "code",
      "source": [
        "\n",
        "print(\"Test_Accuracy: {:.2f}%\".format(model.evaluate(np.array(X_test), np.array(y_test))[1]*100))"
      ],
      "metadata": {
        "id": "IFVV4ZR30XN8",
        "outputId": "f01cfafe-a13d-4441-bdfd-3be548d74ddb",
        "colab": {
          "base_uri": "https://localhost:8080/"
        }
      },
      "execution_count": 8,
      "outputs": [
        {
          "output_type": "stream",
          "name": "stdout",
          "text": [
            "173/173 [==============================] - 11s 61ms/step - loss: 0.2687 - accuracy: 0.9526\n",
            "Test_Accuracy: 95.26%\n"
          ]
        }
      ]
    },
    {
      "cell_type": "code",
      "source": [
        "import matplotlib.pyplot as plt\n",
        "\n",
        "f, (ax1, ax2) = plt.subplots(1, 2, figsize=(12, 4))\n",
        "t = f.suptitle('CNN Performance', fontsize=12)\n",
        "f.subplots_adjust(top=0.85, wspace=0.3)\n",
        "\n",
        "max_epoch = len(history.history['accuracy'])+1\n",
        "epoch_list = list(range(1,max_epoch))\n",
        "ax1.plot(epoch_list, history.history['accuracy'], label='Train Accuracy')\n",
        "ax1.plot(epoch_list, history.history['val_accuracy'], label='Validation Accuracy')\n",
        "ax1.set_xticks(np.arange(1, max_epoch, 5))\n",
        "ax1.set_ylabel('Accuracy Value')\n",
        "ax1.set_xlabel('Epoch')\n",
        "ax1.set_title('Accuracy')\n",
        "l1 = ax1.legend(loc=\"best\")\n",
        "\n",
        "ax2.plot(epoch_list, history.history['loss'], label='Train Loss')\n",
        "ax2.plot(epoch_list, history.history['val_loss'], label='Validation Loss')\n",
        "ax2.set_xticks(np.arange(1, max_epoch, 5))\n",
        "ax2.set_ylabel('Loss Value')\n",
        "ax2.set_xlabel('Epoch')\n",
        "ax2.set_title('Loss')\n",
        "l2 = ax2.legend(loc=\"best\")"
      ],
      "metadata": {
        "colab": {
          "base_uri": "https://localhost:8080/",
          "height": 428
        },
        "id": "2PsT-AkSCOcA",
        "outputId": "214ae879-7e57-4df7-d986-ab72c4043982"
      },
      "execution_count": 9,
      "outputs": [
        {
          "output_type": "display_data",
          "data": {
            "text/plain": [
              "<Figure size 1200x400 with 2 Axes>"
            ],
            "image/png": "[encoded data removed]"
          },
          "metadata": {}
        }
      ]
    },
    {
      "cell_type": "code",
      "source": [
        "#Save the model\n",
        "model.save('malaria_cnn_sequential.h5')"
      ],
      "metadata": {
        "id": "6FZS6-awCmAU"
      },
      "execution_count": 10,
      "outputs": []
    },
    {
      "cell_type": "code",
      "source": [
        "print(\"Test_Accuracy: {:.2f}%\".format(model.evaluate(np.array(X_test), np.array(y_test))[1]*100))"
      ],
      "metadata": {
        "id": "vUwY-qqsJ_rN",
        "outputId": "673f0c55-be7e-447f-9da0-c5eba925e414",
        "colab": {
          "base_uri": "https://localhost:8080/"
        }
      },
      "execution_count": null,
      "outputs": [
        {
          "output_type": "stream",
          "name": "stdout",
          "text": [
            "173/173 [==============================] - 10s 54ms/step - loss: 0.2743 - accuracy: 0.9501\n",
            "Test_Accuracy: 95.01%\n"
          ]
        }
      ]
    },
    {
      "cell_type": "code",
      "source": [
        "y_predict = model.predict(np.array(X_test))"
      ],
      "metadata": {
        "id": "D4uKAKYGLRxb",
        "outputId": "687c13f9-6863-451c-9665-26b8a8cf309d",
        "colab": {
          "base_uri": "https://localhost:8080/"
        }
      },
      "execution_count": 12,
      "outputs": [
        {
          "output_type": "stream",
          "name": "stdout",
          "text": [
            "173/173 [==============================] - 10s 59ms/step\n"
          ]
        }
      ]
    },
    {
      "cell_type": "code",
      "source": [
        "y_predict"
      ],
      "metadata": {
        "id": "be9QI-lTMNap",
        "outputId": "c2a4eb29-7a3c-4e3c-e371-c203e9f7e04b",
        "colab": {
          "base_uri": "https://localhost:8080/"
        }
      },
      "execution_count": 13,
      "outputs": [
        {
          "output_type": "execute_result",
          "data": {
            "text/plain": [
              "array([[9.9997407e-01, 1.0427337e-04],\n",
              "       [9.9999726e-01, 7.7242494e-06],\n",
              "       [2.7747685e-03, 9.9952996e-01],\n",
              "       ...,\n",
              "       [3.4243406e-03, 9.9888384e-01],\n",
              "       [9.9824303e-01, 3.4032429e-03],\n",
              "       [2.8533319e-03, 9.9952471e-01]], dtype=float32)"
            ]
          },
          "metadata": {},
          "execution_count": 13
        }
      ]
    }
  ]
}