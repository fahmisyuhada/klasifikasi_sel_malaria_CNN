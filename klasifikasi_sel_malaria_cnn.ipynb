{
  "nbformat": 4,
  "nbformat_minor": 0,
  "metadata": {
    "colab": {
      "provenance": [],
      "authorship_tag": "ABX9TyOAKG9X6FRPtwsWpUDLlTUQ",
      "include_colab_link": true
    },
    "kernelspec": {
      "name": "python3",
      "display_name": "Python 3"
    },
    "language_info": {
      "name": "python"
    }
  },
  "cells": [
    {
      "cell_type": "markdown",
      "metadata": {
        "id": "view-in-github",
        "colab_type": "text"
      },
      "source": [
        "<a href=\"https://colab.research.google.com/github/fahmisyuhada/klasifikasi_sel_malaria_CNN/blob/main/klasifikasi_sel_malaria_cnn.ipynb\" target=\"_parent\"><img src=\"https://colab.research.google.com/assets/colab-badge.svg\" alt=\"Open In Colab\"/></a>"
      ]
    },
    {
      "cell_type": "code",
      "source": [
        "!pip install -q kaggle"
      ],
      "metadata": {
        "id": "UbodthnUgD-3",
        "outputId": "45041607-4738-49b4-c352-f6a3721b4f14",
        "colab": {
          "base_uri": "https://localhost:8080/"
        }
      },
      "execution_count": 1,
      "outputs": [
        {
          "output_type": "stream",
          "name": "stdout",
          "text": [
            "Requirement already satisfied: kaggle in /usr/local/lib/python3.10/dist-packages (1.5.13)\n",
            "Requirement already satisfied: six>=1.10 in /usr/local/lib/python3.10/dist-packages (from kaggle) (1.16.0)\n",
            "Requirement already satisfied: certifi in /usr/local/lib/python3.10/dist-packages (from kaggle) (2023.5.7)\n",
            "Requirement already satisfied: python-dateutil in /usr/local/lib/python3.10/dist-packages (from kaggle) (2.8.2)\n",
            "Requirement already satisfied: requests in /usr/local/lib/python3.10/dist-packages (from kaggle) (2.27.1)\n",
            "Requirement already satisfied: tqdm in /usr/local/lib/python3.10/dist-packages (from kaggle) (4.65.0)\n",
            "Requirement already satisfied: python-slugify in /usr/local/lib/python3.10/dist-packages (from kaggle) (8.0.1)\n",
            "Requirement already satisfied: urllib3 in /usr/local/lib/python3.10/dist-packages (from kaggle) (1.26.16)\n",
            "Requirement already satisfied: text-unidecode>=1.3 in /usr/local/lib/python3.10/dist-packages (from python-slugify->kaggle) (1.3)\n",
            "Requirement already satisfied: charset-normalizer~=2.0.0 in /usr/local/lib/python3.10/dist-packages (from requests->kaggle) (2.0.12)\n",
            "Requirement already satisfied: idna<4,>=2.5 in /usr/local/lib/python3.10/dist-packages (from requests->kaggle) (3.4)\n"
          ]
        }
      ]
    },
    {
      "cell_type": "code",
      "source": [
        "!mkdir ~/.kaggle"
      ],
      "metadata": {
        "id": "AkroEENyhPUZ"
      },
      "execution_count": 5,
      "outputs": []
    },
    {
      "cell_type": "code",
      "source": [
        "!cp kaggle.json ~/.kaggle"
      ],
      "metadata": {
        "id": "CNoyuQaGk1Ej"
      },
      "execution_count": 7,
      "outputs": []
    },
    {
      "cell_type": "code",
      "source": [
        "!chmod 600 ~/.kaggle/kaggle.json"
      ],
      "metadata": {
        "id": "eaxyhIUtk-ex"
      },
      "execution_count": 8,
      "outputs": []
    },
    {
      "cell_type": "code",
      "source": [
        "!kaggle datasets list"
      ],
      "metadata": {
        "id": "7rH9JMEqlVvM",
        "outputId": "d6cd04e9-42b0-4bd5-8591-474661dc0947",
        "colab": {
          "base_uri": "https://localhost:8080/"
        }
      },
      "execution_count": 9,
      "outputs": [
        {
          "output_type": "stream",
          "name": "stdout",
          "text": [
            "Warning: Looks like you're using an outdated API Version, please consider updating (server 1.5.15 / client 1.5.13)\n",
            "ref                                                               title                                                size  lastUpdated          downloadCount  voteCount  usabilityRating  \n",
            "----------------------------------------------------------------  --------------------------------------------------  -----  -------------------  -------------  ---------  ---------------  \n",
            "alphiree/cardiovascular-diseases-risk-prediction-dataset          Cardiovascular Diseases Risk Prediction Dataset       5MB  2023-07-03 12:12:19           1544         69  1.0              \n",
            "nelgiriyewithana/countries-of-the-world-2023                      Global Country Information Dataset - 2023            23KB  2023-07-08 20:37:33            506         26  1.0              \n",
            "arnavsmayan/netflix-userbase-dataset                              Netflix Userbase Dataset                             25KB  2023-07-04 07:38:41           1678         48  1.0              \n",
            "aaditshukla/flipkart-fasion-products-dataset                       Ecommerce Product dataset                           15MB  2023-07-04 05:44:07            702         25  0.9411765        \n",
            "iamsouravbanerjee/data-science-salaries-2023                      Data Science Salaries: 2020-2023                     32KB  2023-07-07 12:53:23            776         46  1.0              \n",
            "tawfikelmetwally/automobile-dataset                               Car information dataset                               6KB  2023-05-28 18:26:48           8266        216  0.9411765        \n",
            "arthurchongg/imdb-top-1000-movies                                 IMDB Top 1000 Movies                                 64KB  2023-07-08 03:43:13            969         35  1.0              \n",
            "slmsshk/bollywood-release-movie-dataset                           Bollywood movie box office collection Dataset        62KB  2023-07-01 14:55:06            381         27  0.9411765        \n",
            "dansbecker/melbourne-housing-snapshot                             Melbourne Housing Snapshot                          451KB  2018-06-05 12:52:24         120162       1301  0.7058824        \n",
            "mohithsairamreddy/salary-data                                     Salary_Data                                          17KB  2023-05-18 14:05:19          11138        226  0.88235295       \n",
            "iottech/electric-vehicle-data-1997-2024-update-version            Electric Vehicle Data (1997-2024) (update version)    4MB  2023-06-25 14:04:27            933         35  0.9411765        \n",
            "nelgiriyewithana/mcdonalds-store-reviews                          McDonald's Store Reviews                              2MB  2023-06-19 08:46:00           1695         46  1.0              \n",
            "amirhosseinmirzaie/diamonds-price-dataset                         Diamonds Price Dataset                              557KB  2023-06-08 08:19:03            442         33  1.0              \n",
            "drahulsingh/david-warner-all-international-cricket-centuries      David-Warner-All-International-Cricket-Centuries      1KB  2023-07-02 15:04:16            252         28  1.0              \n",
            "amirhosseinmirzaie/countries-life-expectancy                      Countries Life Expectancy                            88KB  2023-06-30 07:17:04            783         39  1.0              \n",
            "ibrahimonmars/cnn-youtube-titles-views-and-posting-dates-dataset  CNN YouTube: Titles, Views & Posting Dates Dataset   38KB  2023-07-03 18:45:41            262         26  1.0              \n",
            "rajkumarpandey02/2023-world-population-by-country                  World Population by Country                         38KB  2023-06-01 06:10:41           4484         94  1.0              \n",
            "drahulsingh/largest-malls                                         Largest-Malls                                         2KB  2023-06-26 17:25:56            541         28  1.0              \n",
            "wspirat/germany-used-cars-dataset-2023                            Germany Used Cars Dataset 2023                        7MB  2023-06-24 18:53:56            858         30  1.0              \n",
            "uom190346a/sleep-health-and-lifestyle-dataset                     Sleep Health and Lifestyle Dataset                    3KB  2023-05-26 10:24:31           5729        134  1.0              \n"
          ]
        }
      ]
    },
    {
      "cell_type": "code",
      "source": [
        "!kaggle datasets download -d 'iarunava/cell-images-for-detecting-malaria'"
      ],
      "metadata": {
        "id": "K7UI174kluHH",
        "outputId": "d8ad60e9-72c6-4dc0-8a2b-68bb921b6060",
        "colab": {
          "base_uri": "https://localhost:8080/"
        }
      },
      "execution_count": 10,
      "outputs": [
        {
          "output_type": "stream",
          "name": "stdout",
          "text": [
            "Downloading cell-images-for-detecting-malaria.zip to /content\n",
            " 98% 664M/675M [00:08<00:00, 74.5MB/s]\n",
            "100% 675M/675M [00:08<00:00, 86.0MB/s]\n"
          ]
        }
      ]
    },
    {
      "cell_type": "code",
      "source": [
        "import zipfile\n",
        "\n",
        "data_set = zipfile.ZipFile('cell-images-for-detecting-malaria.zip', 'r')\n",
        "\n",
        "data_set.extractall()\n",
        "data_set.close()\n",
        "print('dataset unzip successfully')"
      ],
      "metadata": {
        "id": "a5ErgaHTnSrO",
        "outputId": "a73af3d4-c581-4e4c-b5e7-6ada4c33cb26",
        "colab": {
          "base_uri": "https://localhost:8080/"
        }
      },
      "execution_count": 14,
      "outputs": [
        {
          "output_type": "stream",
          "name": "stdout",
          "text": [
            "dataset unzip successfully\n"
          ]
        }
      ]
    },
    {
      "cell_type": "code",
      "execution_count": null,
      "metadata": {
        "id": "6nilKPBvLPxI",
        "outputId": "f2aab2dd-7924-46c4-eaa2-b6873b439bf8",
        "colab": {
          "base_uri": "https://localhost:8080/"
        }
      },
      "outputs": [
        {
          "output_type": "stream",
          "name": "stdout",
          "text": [
            "Model: \"model_1\"\n",
            "_________________________________________________________________\n",
            " Layer (type)                Output Shape              Param #   \n",
            "=================================================================\n",
            " input_4 (InputLayer)        [(None, 64, 64, 3)]       0         \n",
            "                                                                 \n",
            " conv2d_6 (Conv2D)           (None, 64, 64, 32)        896       \n",
            "                                                                 \n",
            " max_pooling2d_6 (MaxPooling  (None, 32, 32, 32)       0         \n",
            " 2D)                                                             \n",
            "                                                                 \n",
            " batch_normalization_9 (Batc  (None, 32, 32, 32)       128       \n",
            " hNormalization)                                                 \n",
            "                                                                 \n",
            " dropout_9 (Dropout)         (None, 32, 32, 32)        0         \n",
            "                                                                 \n",
            " conv2d_7 (Conv2D)           (None, 32, 32, 32)        9248      \n",
            "                                                                 \n",
            " max_pooling2d_7 (MaxPooling  (None, 16, 16, 32)       0         \n",
            " 2D)                                                             \n",
            "                                                                 \n",
            " batch_normalization_10 (Bat  (None, 16, 16, 32)       128       \n",
            " chNormalization)                                                \n",
            "                                                                 \n",
            " dropout_10 (Dropout)        (None, 16, 16, 32)        0         \n",
            "                                                                 \n",
            " flatten_2 (Flatten)         (None, 8192)              0         \n",
            "                                                                 \n",
            " dense_6 (Dense)             (None, 512)               4194816   \n",
            "                                                                 \n",
            " batch_normalization_11 (Bat  (None, 512)              2048      \n",
            " chNormalization)                                                \n",
            "                                                                 \n",
            " dropout_11 (Dropout)        (None, 512)               0         \n",
            "                                                                 \n",
            " dense_7 (Dense)             (None, 256)               131328    \n",
            "                                                                 \n",
            " batch_normalization_12 (Bat  (None, 256)              1024      \n",
            " chNormalization)                                                \n",
            "                                                                 \n",
            " dropout_12 (Dropout)        (None, 256)               0         \n",
            "                                                                 \n",
            " dense_8 (Dense)             (None, 2)                 514       \n",
            "                                                                 \n",
            "=================================================================\n",
            "Total params: 4,340,130\n",
            "Trainable params: 4,338,466\n",
            "Non-trainable params: 1,664\n",
            "_________________________________________________________________\n",
            "None\n"
          ]
        }
      ],
      "source": [
        "import numpy as np\n",
        "np.random.seed\n",
        "\n",
        "import cv2\n",
        "import os\n",
        "from PIL import Image\n",
        "import keras\n",
        "\n",
        "os.environ['KERAS_BACKEND'] = 'tensorflow'\n",
        "image_directory = 'cell_images2'\n",
        "SIZE = 64\n",
        "dataset = []\n",
        "label = []\n",
        "\n",
        "parasitezed_images = os.listdir(image_directory + 'Parasitezed/')\n",
        "\n",
        "\n",
        "\n",
        "\n",
        "#####################################\n",
        "INPUT_SHAPE = (SIZE, SIZE, 3)   # change to (SIZE, SIZE, 3)\n",
        "\n",
        "\n",
        "###### Make Layer CNN #######\n",
        "inp = keras.layers.Input(shape=INPUT_SHAPE)\n",
        "\n",
        "conv1 = keras.layers.Conv2D(32, kernel_size=(3,3), activation='relu', padding='same')(inp)\n",
        "pool1 = keras.layers.MaxPooling2D(pool_size=(2,2))(conv1)\n",
        "norm1 = keras.layers.BatchNormalization(axis=-1)(pool1)\n",
        "drop1 = keras.layers.Dropout(rate=0.2)(norm1)\n",
        "\n",
        "conv2 = keras.layers.Conv2D(32, kernel_size=(3,3), activation='relu', padding='same')(drop1)\n",
        "pool2 = keras.layers.MaxPooling2D(pool_size=(2,2))(conv2)\n",
        "norm2 = keras.layers.BatchNormalization(axis=-1)(pool2)\n",
        "drop2 = keras.layers.Dropout(rate=0.2)(norm2)\n",
        "\n",
        "flat = keras.layers.Flatten()(drop2) # Flatten the matrix to get it ready for\n",
        "\n",
        "hidden1 = keras.layers.Dense(512, activation='relu')(flat)\n",
        "norm3 = keras.layers.BatchNormalization(axis=-1)(hidden1)\n",
        "drop3 = keras.layers.Dropout(rate=0.2)(norm3)\n",
        "hidden2 = keras.layers.Dense(256, activation='relu')(drop3)\n",
        "norm4 = keras.layers.BatchNormalization(axis=-1)(hidden2)\n",
        "drop4 = keras.layers.Dropout(rate=0.2)(norm4)\n",
        "\n",
        "out = keras.layers.Dense(2, activation='sigmoid')(drop4)\n",
        "\n",
        "model = keras.Model(inputs=inp, outputs=out)\n",
        "model.compile(optimizer='adam', loss='categorical_crossentropy', metrics=['accuracy'])\n",
        "\n",
        "print(model.summary())\n",
        "\n",
        "\n",
        "\n",
        "\n",
        "\n",
        "\n"
      ]
    },
    {
      "cell_type": "code",
      "source": [
        "model = None\n",
        "model = Sequential()\n",
        "model.add(Convolution2D(32, (3,3), input_shape=(SIZE,SIZE,3), activation='relu', data_format='channels_last'))\n",
        "model.add(MaxPooling2D(pool_size = (2,2), data_format=\"channels_last\"))\n",
        "model.add(BatchNormalization(axis = -1))\n",
        "model.add(Dropout(0.2))\n",
        "\n",
        "model.add(Convolution2D(32,(3,3), activation='relu'))\n",
        "model.add(Maxpooling2D(pool_size = (2, 2), data_format=\"channels_last\"))\n",
        "model.add(BatchNormalization(axis = -1))\n",
        "model.add(Dropout(0.2))\n",
        "model.add(Flatten())"
      ],
      "metadata": {
        "id": "EoElIf-eheG5"
      },
      "execution_count": null,
      "outputs": []
    }
  ]
}