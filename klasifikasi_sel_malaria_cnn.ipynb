{
  "nbformat": 4,
  "nbformat_minor": 0,
  "metadata": {
    "colab": {
      "provenance": [],
      "authorship_tag": "ABX9TyPS2aL4lkZe5ymXNQWB9Bib",
      "include_colab_link": true
    },
    "kernelspec": {
      "name": "python3",
      "display_name": "Python 3"
    },
    "language_info": {
      "name": "python"
    }
  },
  "cells": [
    {
      "cell_type": "markdown",
      "metadata": {
        "id": "view-in-github",
        "colab_type": "text"
      },
      "source": [
        "<a href=\"https://colab.research.google.com/github/fahmisyuhada/klasifikasi_sel_malaria_CNN/blob/main/klasifikasi_sel_malaria_cnn.ipynb\" target=\"_parent\"><img src=\"https://colab.research.google.com/assets/colab-badge.svg\" alt=\"Open In Colab\"/></a>"
      ]
    },
    {
      "cell_type": "code",
      "source": [
        "!pip install -q kaggle\n",
        "!mkdir ~/.kaggle\n",
        "!cp kaggle.json ~/.kaggle\n",
        "!chmod 600 ~/.kaggle/kaggle.json\n",
        "# !kaggle datasets list"
      ],
      "metadata": {
        "colab": {
          "base_uri": "https://localhost:8080/"
        },
        "id": "UbodthnUgD-3",
        "outputId": "1e969ce7-50c0-4597-87c4-3930aae504d4"
      },
      "execution_count": 11,
      "outputs": [
        {
          "output_type": "stream",
          "name": "stdout",
          "text": [
            "mkdir: cannot create directory ‘/root/.kaggle’: File exists\n"
          ]
        }
      ]
    },
    {
      "cell_type": "code",
      "source": [
        "!kaggle datasets download -d 'iarunava/cell-images-for-detecting-malaria'\n",
        "import zipfile\n",
        "\n",
        "data_set = zipfile.ZipFile('cell-images-for-detecting-malaria.zip', 'r')\n",
        "\n",
        "data_set.extractall()\n",
        "data_set.close()\n",
        "print('dataset unzip successfully')"
      ],
      "metadata": {
        "id": "_RqNtKI5fua8",
        "outputId": "2f138660-ca77-45aa-c968-b7d676436339",
        "colab": {
          "base_uri": "https://localhost:8080/"
        }
      },
      "execution_count": 12,
      "outputs": [
        {
          "output_type": "stream",
          "name": "stdout",
          "text": [
            "cell-images-for-detecting-malaria.zip: Skipping, found more recently modified local copy (use --force to force download)\n",
            "dataset unzip successfully\n"
          ]
        }
      ]
    },
    {
      "cell_type": "code",
      "source": [
        "import numpy as np\n",
        "np.random.seed\n",
        "\n",
        "import cv2\n",
        "import os\n",
        "from PIL import Image\n",
        "import keras\n",
        "\n",
        "os.environ['KERAS_BACKEND'] = 'tensorflow'\n",
        "\n",
        "image_directory = 'cell_images/'\n",
        "SIZE = 64\n",
        "dataset = []\n",
        "label = []\n",
        "\n",
        "parasitezed_images = os.listdir(image_directory + 'Parasitized/')\n",
        "for i, image_name in enumerate(parasitezed_images):\n",
        "  if(image_name.split('.')[1] == 'png'):\n",
        "    image = cv2.imread(image_directory + 'Parasitized/' + image_name)\n",
        "    image = Image.fromarray(image, 'RGB')\n",
        "    image = image.resize((SIZE, SIZE))\n",
        "    dataset.append(np.array(image))\n",
        "    label.append(0)\n",
        "\n",
        "uninfected_images = os.listdir(image_directory + 'Uninfected/')\n",
        "for i, image_name in enumerate(uninfected_images):\n",
        "  if(image_name.split('.')[1] == 'png'):\n",
        "    image = cv2.imread(image_directory + 'Uninfected/' + image_name)\n",
        "    image = Image.fromarray(image, 'RGB')\n",
        "    image = image.resize((SIZE, SIZE))\n",
        "    dataset.append(np.array(image))\n",
        "    label.append(1)\n",
        "\n",
        "print(\"Load Data Succesfully\")"
      ],
      "metadata": {
        "id": "aktIY4KS5SHW",
        "outputId": "851c84cb-8ec3-44df-d7dc-5f4e247f8b96",
        "colab": {
          "base_uri": "https://localhost:8080/"
        }
      },
      "execution_count": 14,
      "outputs": [
        {
          "output_type": "stream",
          "name": "stdout",
          "text": [
            "Load Data Succesfully\n"
          ]
        }
      ]
    },
    {
      "cell_type": "code",
      "execution_count": 15,
      "metadata": {
        "id": "6nilKPBvLPxI",
        "outputId": "430e5c26-e0fe-4706-b4b9-6ee807355655",
        "colab": {
          "base_uri": "https://localhost:8080/"
        }
      },
      "outputs": [
        {
          "output_type": "stream",
          "name": "stdout",
          "text": [
            "Model: \"model_1\"\n",
            "_________________________________________________________________\n",
            " Layer (type)                Output Shape              Param #   \n",
            "=================================================================\n",
            " input_2 (InputLayer)        [(None, 64, 64, 3)]       0         \n",
            "                                                                 \n",
            " conv2d_2 (Conv2D)           (None, 64, 64, 32)        896       \n",
            "                                                                 \n",
            " max_pooling2d_2 (MaxPooling  (None, 32, 32, 32)       0         \n",
            " 2D)                                                             \n",
            "                                                                 \n",
            " batch_normalization_4 (Batc  (None, 32, 32, 32)       128       \n",
            " hNormalization)                                                 \n",
            "                                                                 \n",
            " dropout_4 (Dropout)         (None, 32, 32, 32)        0         \n",
            "                                                                 \n",
            " conv2d_3 (Conv2D)           (None, 32, 32, 32)        9248      \n",
            "                                                                 \n",
            " max_pooling2d_3 (MaxPooling  (None, 16, 16, 32)       0         \n",
            " 2D)                                                             \n",
            "                                                                 \n",
            " batch_normalization_5 (Batc  (None, 16, 16, 32)       128       \n",
            " hNormalization)                                                 \n",
            "                                                                 \n",
            " dropout_5 (Dropout)         (None, 16, 16, 32)        0         \n",
            "                                                                 \n",
            " flatten_1 (Flatten)         (None, 8192)              0         \n",
            "                                                                 \n",
            " dense_3 (Dense)             (None, 512)               4194816   \n",
            "                                                                 \n",
            " batch_normalization_6 (Batc  (None, 512)              2048      \n",
            " hNormalization)                                                 \n",
            "                                                                 \n",
            " dropout_6 (Dropout)         (None, 512)               0         \n",
            "                                                                 \n",
            " dense_4 (Dense)             (None, 256)               131328    \n",
            "                                                                 \n",
            " batch_normalization_7 (Batc  (None, 256)              1024      \n",
            " hNormalization)                                                 \n",
            "                                                                 \n",
            " dropout_7 (Dropout)         (None, 256)               0         \n",
            "                                                                 \n",
            " dense_5 (Dense)             (None, 2)                 514       \n",
            "                                                                 \n",
            "=================================================================\n",
            "Total params: 4,340,130\n",
            "Trainable params: 4,338,466\n",
            "Non-trainable params: 1,664\n",
            "_________________________________________________________________\n",
            "None\n"
          ]
        }
      ],
      "source": [
        "#####################################\n",
        "INPUT_SHAPE = (SIZE, SIZE, 3)   # change to (SIZE, SIZE, 3)\n",
        "\n",
        "\n",
        "###### Make Layer CNN #######\n",
        "inp = keras.layers.Input(shape=INPUT_SHAPE)\n",
        "\n",
        "conv1 = keras.layers.Conv2D(32, kernel_size=(3,3), activation='relu', padding='same')(inp)\n",
        "pool1 = keras.layers.MaxPooling2D(pool_size=(2,2))(conv1)\n",
        "norm1 = keras.layers.BatchNormalization(axis=-1)(pool1)\n",
        "drop1 = keras.layers.Dropout(rate=0.2)(norm1)\n",
        "\n",
        "conv2 = keras.layers.Conv2D(32, kernel_size=(3,3), activation='relu', padding='same')(drop1)\n",
        "pool2 = keras.layers.MaxPooling2D(pool_size=(2,2))(conv2)\n",
        "norm2 = keras.layers.BatchNormalization(axis=-1)(pool2)\n",
        "drop2 = keras.layers.Dropout(rate=0.2)(norm2)\n",
        "\n",
        "flat = keras.layers.Flatten()(drop2) # Flatten the matrix to get it ready for\n",
        "\n",
        "hidden1 = keras.layers.Dense(512, activation='relu')(flat)\n",
        "norm3 = keras.layers.BatchNormalization(axis=-1)(hidden1)\n",
        "drop3 = keras.layers.Dropout(rate=0.2)(norm3)\n",
        "hidden2 = keras.layers.Dense(256, activation='relu')(drop3)\n",
        "norm4 = keras.layers.BatchNormalization(axis=-1)(hidden2)\n",
        "drop4 = keras.layers.Dropout(rate=0.2)(norm4)\n",
        "\n",
        "out = keras.layers.Dense(2, activation='sigmoid')(drop4)\n",
        "\n",
        "model = keras.Model(inputs=inp, outputs=out)\n",
        "model.compile(optimizer='adam', loss='categorical_crossentropy', metrics=['accuracy'])\n",
        "\n",
        "print(model.summary())\n",
        "\n"
      ]
    },
    {
      "cell_type": "code",
      "source": [
        "### Split the dataset\n",
        "#\n",
        "# I split the dataset into training and testing dataset.\n",
        "# 1. Training data: 80%\n",
        "# 2. Testing data: 20%\n",
        "from sklearn.model_selection import train_test_split\n",
        "from keras.utils import to_categorical\n",
        "\n",
        "X_train, X_test, y_train, y_test = train_test_split(dataset, to_categorical(np.array(label)), test_size = 0.20, random_state = 0)\n",
        "\n",
        "# When training with Keras's Model.fit(), adding the tf.keras.callback.TensorBoard callback\n",
        "# ensures that logs are created and stored. Additionally, enable histogram computation\n",
        "#every epoch with histogram_freq=1 (this is off by default)\n",
        "#Place the logs in a timestamped subdirectory to allow easy selection of different training runs.\n"
      ],
      "metadata": {
        "id": "EoElIf-eheG5"
      },
      "execution_count": 16,
      "outputs": []
    },
    {
      "cell_type": "code",
      "source": [
        "#import datetime\n",
        "\n",
        "#log_dir=\"logs/fit/\" + datetime.datetime.now().strftime(\"%Y%m%d_%H%M%S\") + \"/\"\n",
        "#tensorboard_callback = keras.callbacks.TensorBoard(log_dir=log_dir, histogram_freq=1)\n",
        "\n",
        "\n",
        "# ### Training the model\n",
        "# As the training data is now ready, I will use it to train the model.\n",
        "\n",
        "#Fit the model\n",
        "history = model.fit(np.array(X_train),\n",
        "                         y_train,\n",
        "                         batch_size = 64,\n",
        "                         verbose = 1,\n",
        "                         epochs = 25,      #Changed to 3 from 50 for testing purposes.\n",
        "                         validation_split = 0.1,\n",
        "                         shuffle = False\n",
        "                      #   callbacks=callbacks\n",
        "                     )\n",
        "\n",
        "# ## Accuracy calculation\n",
        "#\n",
        "# I'll now calculate the accuracy on the test data.\n",
        "\n",
        "print(\"Test_Accuracy: {:.2f}%\".format(model.evaluate(np.array(X_test), np.array(y_test))[1]*100))"
      ],
      "metadata": {
        "id": "FyLhajFijCyK",
        "outputId": "7415db6c-8bef-4228-c07b-8391327607d1",
        "colab": {
          "base_uri": "https://localhost:8080/"
        }
      },
      "execution_count": 17,
      "outputs": [
        {
          "output_type": "stream",
          "name": "stdout",
          "text": [
            "Epoch 1/25\n",
            "311/311 [==============================] - 181s 573ms/step - loss: 0.5713 - accuracy: 0.7458 - val_loss: 1.0556 - val_accuracy: 0.7800\n",
            "Epoch 2/25\n",
            "311/311 [==============================] - 170s 547ms/step - loss: 0.2447 - accuracy: 0.9092 - val_loss: 0.4873 - val_accuracy: 0.8494\n",
            "Epoch 3/25\n",
            "311/311 [==============================] - 160s 514ms/step - loss: 0.2000 - accuracy: 0.9259 - val_loss: 0.1631 - val_accuracy: 0.9388\n",
            "Epoch 4/25\n",
            "311/311 [==============================] - 182s 587ms/step - loss: 0.1763 - accuracy: 0.9367 - val_loss: 0.2163 - val_accuracy: 0.9270\n",
            "Epoch 5/25\n",
            "311/311 [==============================] - 173s 557ms/step - loss: 0.1527 - accuracy: 0.9454 - val_loss: 0.2613 - val_accuracy: 0.9229\n",
            "Epoch 6/25\n",
            "311/311 [==============================] - 168s 541ms/step - loss: 0.1406 - accuracy: 0.9496 - val_loss: 0.3270 - val_accuracy: 0.9061\n",
            "Epoch 7/25\n",
            "311/311 [==============================] - 167s 539ms/step - loss: 0.1265 - accuracy: 0.9544 - val_loss: 0.1798 - val_accuracy: 0.9365\n",
            "Epoch 8/25\n",
            "311/311 [==============================] - 179s 577ms/step - loss: 0.1128 - accuracy: 0.9578 - val_loss: 0.2336 - val_accuracy: 0.9283\n",
            "Epoch 9/25\n",
            "311/311 [==============================] - 169s 544ms/step - loss: 0.0960 - accuracy: 0.9652 - val_loss: 0.2184 - val_accuracy: 0.9361\n",
            "Epoch 10/25\n",
            "311/311 [==============================] - 175s 562ms/step - loss: 0.0895 - accuracy: 0.9681 - val_loss: 0.1688 - val_accuracy: 0.9469\n",
            "Epoch 11/25\n",
            "311/311 [==============================] - 173s 557ms/step - loss: 0.0727 - accuracy: 0.9731 - val_loss: 0.1887 - val_accuracy: 0.9274\n",
            "Epoch 12/25\n",
            "311/311 [==============================] - 175s 564ms/step - loss: 0.0581 - accuracy: 0.9777 - val_loss: 0.2324 - val_accuracy: 0.9374\n",
            "Epoch 13/25\n",
            "311/311 [==============================] - 178s 573ms/step - loss: 0.0525 - accuracy: 0.9805 - val_loss: 0.1700 - val_accuracy: 0.9488\n",
            "Epoch 14/25\n",
            "311/311 [==============================] - 170s 546ms/step - loss: 0.0511 - accuracy: 0.9803 - val_loss: 0.1987 - val_accuracy: 0.9288\n",
            "Epoch 15/25\n",
            "311/311 [==============================] - 167s 538ms/step - loss: 0.0486 - accuracy: 0.9821 - val_loss: 0.1799 - val_accuracy: 0.9469\n",
            "Epoch 16/25\n",
            "311/311 [==============================] - 166s 533ms/step - loss: 0.0303 - accuracy: 0.9893 - val_loss: 0.1563 - val_accuracy: 0.9583\n",
            "Epoch 17/25\n",
            "311/311 [==============================] - 167s 537ms/step - loss: 0.0279 - accuracy: 0.9899 - val_loss: 0.1926 - val_accuracy: 0.9542\n",
            "Epoch 18/25\n",
            "311/311 [==============================] - 169s 544ms/step - loss: 0.0268 - accuracy: 0.9901 - val_loss: 0.2264 - val_accuracy: 0.9537\n",
            "Epoch 19/25\n",
            "311/311 [==============================] - 159s 511ms/step - loss: 0.0252 - accuracy: 0.9912 - val_loss: 0.2357 - val_accuracy: 0.9546\n",
            "Epoch 20/25\n",
            "311/311 [==============================] - 160s 514ms/step - loss: 0.0248 - accuracy: 0.9911 - val_loss: 0.1984 - val_accuracy: 0.9565\n",
            "Epoch 21/25\n",
            "311/311 [==============================] - 166s 535ms/step - loss: 0.0262 - accuracy: 0.9909 - val_loss: 0.1858 - val_accuracy: 0.9592\n",
            "Epoch 22/25\n",
            "311/311 [==============================] - 170s 545ms/step - loss: 0.0189 - accuracy: 0.9933 - val_loss: 0.2212 - val_accuracy: 0.9537\n",
            "Epoch 23/25\n",
            "311/311 [==============================] - 166s 532ms/step - loss: 0.0184 - accuracy: 0.9930 - val_loss: 0.2357 - val_accuracy: 0.9383\n",
            "Epoch 24/25\n",
            "311/311 [==============================] - 165s 532ms/step - loss: 0.0255 - accuracy: 0.9915 - val_loss: 0.1899 - val_accuracy: 0.9596\n",
            "Epoch 25/25\n",
            "311/311 [==============================] - 165s 531ms/step - loss: 0.0195 - accuracy: 0.9928 - val_loss: 0.2172 - val_accuracy: 0.9546\n",
            "173/173 [==============================] - 10s 60ms/step - loss: 0.2743 - accuracy: 0.9501\n",
            "Test_Accuracy: 95.01%\n"
          ]
        }
      ]
    }
  ]
}